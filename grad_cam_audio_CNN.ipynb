{
 "cells": [
  {
   "cell_type": "markdown",
   "metadata": {},
   "source": [
    "# 필요한 라이브러리"
   ]
  },
  {
   "cell_type": "code",
   "execution_count": 2,
   "metadata": {},
   "outputs": [
    {
     "name": "stderr",
     "output_type": "stream",
     "text": [
      "/home/woonj/anaconda3/envs/grad_cam/lib/python3.9/site-packages/pytorch_grad_cam/utils/image.py:10: UserWarning: A NumPy version >=1.22.4 and <2.3.0 is required for this version of SciPy (detected version 1.22.0)\n",
      "  from scipy.ndimage import zoom\n"
     ]
    }
   ],
   "source": [
    "import argparse \n",
    "import os\n",
    "import torch\n",
    "import torchaudio\n",
    "import numpy as np\n",
    "from pytorch_grad_cam import (\n",
    "    GradCAM, HiResCAM, ScoreCAM, GradCAMPlusPlus,\n",
    "    AblationCAM, XGradCAM, EigenCAM, EigenGradCAM,\n",
    "    LayerCAM, FullGrad, GradCAMElementWise\n",
    ")\n",
    "from pytorch_grad_cam.utils.model_targets import ClassifierOutputTarget\n",
    "from wav2vec2_vib import Model\n",
    "from torchinfo import summary\n",
    "import librosa"
   ]
  },
  {
   "cell_type": "code",
   "execution_count": 2,
   "metadata": {},
   "outputs": [],
   "source": [
    "# numpy==1.21.6\n",
    "# matplotlib==3.5.2"
   ]
  },
  {
   "cell_type": "markdown",
   "metadata": {},
   "source": [
    "### 모델 및 프로세서 로드"
   ]
  },
  {
   "cell_type": "code",
   "execution_count": 3,
   "metadata": {},
   "outputs": [
    {
     "name": "stderr",
     "output_type": "stream",
     "text": [
      "/home/woonj/anaconda3/envs/grad_cam/lib/python3.9/site-packages/torch/nn/utils/weight_norm.py:28: UserWarning: torch.nn.utils.weight_norm is deprecated in favor of torch.nn.utils.parametrizations.weight_norm.\n",
      "  warnings.warn(\"torch.nn.utils.weight_norm is deprecated in favor of torch.nn.utils.parametrizations.weight_norm.\")\n"
     ]
    },
    {
     "name": "stdout",
     "output_type": "stream",
     "text": [
      "Model weights loaded successfully!\n"
     ]
    }
   ],
   "source": [
    "# device = \"cpu\"\n",
    "# device = \"cuda\" if torch.cuda.is_available() else \"cpu\"\n",
    "device = torch.device(\"cuda\" if torch.cuda.is_available() else \"cpu\")\n",
    "model = Model(\n",
    "    device=device,\n",
    "    ssl_cpkt_path='xlsr2_300m.pt', # https://github.com/facebookresearch/fairseq/blob/main/examples/wav2vec/xlsr/README.md#:~:text=XLS%2DR%20300M-,download,-XLS%2DR%201B\n",
    ").to(device)\n",
    "# 가중치 로드 시 에러 핸들링 추가\n",
    "try:\n",
    "    model.load_state_dict(torch.load('vib_conf-5_gelu_2s_may27_epoch6.pth', map_location=device))\n",
    "    print(\"Model weights loaded successfully!\")\n",
    "except FileNotFoundError:\n",
    "    print(\"Model weights file not found. Please check the file path.\")\n",
    "except Exception as e:\n",
    "    print(f\"Error loading model weights: {e}\")"
   ]
  },
  {
   "cell_type": "code",
   "execution_count": 4,
   "metadata": {},
   "outputs": [
    {
     "data": {
      "text/plain": [
       "Model(\n",
       "  (ssl_model): SSLModel(\n",
       "    (model): Wav2Vec2Model(\n",
       "      (feature_extractor): ConvFeatureExtractionModel(\n",
       "        (conv_layers): ModuleList(\n",
       "          (0): Sequential(\n",
       "            (0): Conv1d(1, 512, kernel_size=(10,), stride=(5,))\n",
       "            (1): Dropout(p=0.0, inplace=False)\n",
       "            (2): Sequential(\n",
       "              (0): TransposeLast()\n",
       "              (1): Fp32LayerNorm((512,), eps=1e-05, elementwise_affine=True)\n",
       "              (2): TransposeLast()\n",
       "            )\n",
       "            (3): GELU(approximate='none')\n",
       "          )\n",
       "          (1-4): 4 x Sequential(\n",
       "            (0): Conv1d(512, 512, kernel_size=(3,), stride=(2,))\n",
       "            (1): Dropout(p=0.0, inplace=False)\n",
       "            (2): Sequential(\n",
       "              (0): TransposeLast()\n",
       "              (1): Fp32LayerNorm((512,), eps=1e-05, elementwise_affine=True)\n",
       "              (2): TransposeLast()\n",
       "            )\n",
       "            (3): GELU(approximate='none')\n",
       "          )\n",
       "          (5-6): 2 x Sequential(\n",
       "            (0): Conv1d(512, 512, kernel_size=(2,), stride=(2,))\n",
       "            (1): Dropout(p=0.0, inplace=False)\n",
       "            (2): Sequential(\n",
       "              (0): TransposeLast()\n",
       "              (1): Fp32LayerNorm((512,), eps=1e-05, elementwise_affine=True)\n",
       "              (2): TransposeLast()\n",
       "            )\n",
       "            (3): GELU(approximate='none')\n",
       "          )\n",
       "        )\n",
       "      )\n",
       "      (post_extract_proj): Linear(in_features=512, out_features=1024, bias=True)\n",
       "      (dropout_input): Dropout(p=0.0, inplace=False)\n",
       "      (dropout_features): Dropout(p=0.0, inplace=False)\n",
       "      (quantizer): GumbelVectorQuantizer(\n",
       "        (weight_proj): Linear(in_features=512, out_features=640, bias=True)\n",
       "      )\n",
       "      (project_q): Linear(in_features=768, out_features=768, bias=True)\n",
       "      (encoder): TransformerEncoder(\n",
       "        (pos_conv): Sequential(\n",
       "          (0): Conv1d(1024, 1024, kernel_size=(128,), stride=(1,), padding=(64,), groups=16)\n",
       "          (1): SamePad()\n",
       "          (2): GELU(approximate='none')\n",
       "        )\n",
       "        (layers): ModuleList(\n",
       "          (0-23): 24 x TransformerSentenceEncoderLayer(\n",
       "            (self_attn): MultiheadAttention(\n",
       "              (dropout_module): FairseqDropout()\n",
       "              (k_proj): Linear(in_features=1024, out_features=1024, bias=True)\n",
       "              (v_proj): Linear(in_features=1024, out_features=1024, bias=True)\n",
       "              (q_proj): Linear(in_features=1024, out_features=1024, bias=True)\n",
       "              (out_proj): Linear(in_features=1024, out_features=1024, bias=True)\n",
       "            )\n",
       "            (dropout1): Dropout(p=0.0, inplace=False)\n",
       "            (dropout2): Dropout(p=0.0, inplace=False)\n",
       "            (dropout3): Dropout(p=0.0, inplace=False)\n",
       "            (self_attn_layer_norm): LayerNorm((1024,), eps=1e-05, elementwise_affine=True)\n",
       "            (fc1): Linear(in_features=1024, out_features=4096, bias=True)\n",
       "            (fc2): Linear(in_features=4096, out_features=1024, bias=True)\n",
       "            (final_layer_norm): LayerNorm((1024,), eps=1e-05, elementwise_affine=True)\n",
       "          )\n",
       "        )\n",
       "        (layer_norm): LayerNorm((1024,), eps=1e-05, elementwise_affine=True)\n",
       "      )\n",
       "      (layer_norm): LayerNorm((512,), eps=1e-05, elementwise_affine=True)\n",
       "      (final_proj): Linear(in_features=1024, out_features=768, bias=True)\n",
       "    )\n",
       "  )\n",
       "  (LL): Linear(in_features=1024, out_features=128, bias=True)\n",
       "  (first_bn): BatchNorm2d(1, eps=1e-05, momentum=0.1, affine=True, track_running_stats=True)\n",
       "  (first_bn1): BatchNorm2d(64, eps=1e-05, momentum=0.1, affine=True, track_running_stats=True)\n",
       "  (drop): Dropout(p=0.5, inplace=True)\n",
       "  (selu): SELU(inplace=True)\n",
       "  (loss_CE): CrossEntropyLoss()\n",
       "  (VIB): VIB(\n",
       "    (encoder): Sequential(\n",
       "      (0): Linear(in_features=128, out_features=128, bias=True)\n",
       "      (1): GELU(approximate='none')\n",
       "      (2): Dropout(p=0.5, inplace=False)\n",
       "      (3): Linear(in_features=128, out_features=128, bias=True)\n",
       "      (4): GELU(approximate='none')\n",
       "      (5): Dropout(p=0.5, inplace=False)\n",
       "    )\n",
       "    (fc_mu): Linear(in_features=128, out_features=64, bias=True)\n",
       "    (fc_var): Linear(in_features=128, out_features=64, bias=True)\n",
       "    (decoder): Sequential(\n",
       "      (0): Linear(in_features=64, out_features=128, bias=True)\n",
       "      (1): GELU(approximate='none')\n",
       "      (2): Dropout(p=0.5, inplace=False)\n",
       "      (3): Linear(in_features=128, out_features=128, bias=True)\n",
       "    )\n",
       "  )\n",
       "  (backend): BackEnd(\n",
       "    (m_frame_level): Sequential(\n",
       "      (0): Linear(in_features=64, out_features=64, bias=True)\n",
       "      (1): GELU(approximate='none')\n",
       "      (2): Dropout(p=0.5, inplace=False)\n",
       "      (3): Linear(in_features=64, out_features=64, bias=True)\n",
       "      (4): GELU(approximate='none')\n",
       "      (5): Dropout(p=0.5, inplace=False)\n",
       "      (6): Linear(in_features=64, out_features=64, bias=True)\n",
       "      (7): GELU(approximate='none')\n",
       "      (8): Dropout(p=0.5, inplace=False)\n",
       "    )\n",
       "    (m_utt_level): Linear(in_features=64, out_features=2, bias=True)\n",
       "  )\n",
       "  (gelu): GELU(approximate='none')\n",
       ")"
      ]
     },
     "execution_count": 4,
     "metadata": {},
     "output_type": "execute_result"
    }
   ],
   "source": [
    "model"
   ]
  },
  {
   "cell_type": "code",
   "execution_count": 3,
   "metadata": {},
   "outputs": [
    {
     "data": {
      "text/plain": [
       "Conv1d(512, 512, kernel_size=(2,), stride=(2,))"
      ]
     },
     "execution_count": 3,
     "metadata": {},
     "output_type": "execute_result"
    }
   ],
   "source": [
    "#ConvFeatureExtractionModel의 마지막 합성곱 레이어\n",
    "# model.ssl_model.model.feature_extractor.conv_layers[-1][0]"
   ]
  },
  {
   "cell_type": "code",
   "execution_count": 8,
   "metadata": {},
   "outputs": [
    {
     "data": {
      "text/plain": [
       "Linear(in_features=64, out_features=2, bias=True)"
      ]
     },
     "execution_count": 8,
     "metadata": {},
     "output_type": "execute_result"
    }
   ],
   "source": [
    "model.backend.m_utt_level"
   ]
  },
  {
   "cell_type": "code",
   "execution_count": 9,
   "metadata": {},
   "outputs": [
    {
     "data": {
      "text/plain": [
       "Linear(in_features=1024, out_features=128, bias=True)"
      ]
     },
     "execution_count": 9,
     "metadata": {},
     "output_type": "execute_result"
    }
   ],
   "source": [
    "model.LL"
   ]
  },
  {
   "cell_type": "markdown",
   "metadata": {},
   "source": [
    "### 오디오 파일 로드 및 전처리"
   ]
  },
  {
   "cell_type": "code",
   "execution_count": 4,
   "metadata": {},
   "outputs": [],
   "source": [
    "# 오디오 로드\n",
    "audio_path = \"/home/woonj/grad-cam/1조인성_수상소감.wav\"\n",
    "\n",
    "# 필요한 경우 샘플링 레이트 설정 (None으로 기본 샘플링 레이트 사용)\n",
    "waveform, sr = librosa.load(audio_path, sr=16000)  # librosa를 사용한다면 이렇게 가능\n",
    "# waveform = torch.randn(64000)\n",
    "waveform =  torch.Tensor(waveform)\n",
    "waveform = waveform.unsqueeze(0)"
   ]
  },
  {
   "cell_type": "code",
   "execution_count": 4,
   "metadata": {},
   "outputs": [
    {
     "data": {
      "text/plain": [
       "torch.Size([1, 85901])"
      ]
     },
     "execution_count": 4,
     "metadata": {},
     "output_type": "execute_result"
    }
   ],
   "source": [
    "waveform.shape"
   ]
  },
  {
   "cell_type": "code",
   "execution_count": 20,
   "metadata": {},
   "outputs": [
    {
     "data": {
      "text/plain": [
       "tensor([[0.0008, 0.0078, 0.0164,  ..., 0.0012, 0.0009, 0.0005]],\n",
       "       requires_grad=True)"
      ]
     },
     "execution_count": 20,
     "metadata": {},
     "output_type": "execute_result"
    }
   ],
   "source": [
    "waveform.requires_grad_()  # requires_grad 속성 설정"
   ]
  },
  {
   "cell_type": "markdown",
   "metadata": {},
   "source": [
    "### 타겟 레이어 선택"
   ]
  },
  {
   "cell_type": "code",
   "execution_count": 5,
   "metadata": {},
   "outputs": [
    {
     "data": {
      "text/plain": [
       "Linear(in_features=64, out_features=64, bias=True)"
      ]
     },
     "execution_count": 5,
     "metadata": {},
     "output_type": "execute_result"
    }
   ],
   "source": [
    "model.backend.m_frame_level[6]"
   ]
  },
  {
   "cell_type": "code",
   "execution_count": 5,
   "metadata": {},
   "outputs": [],
   "source": [
    "target_layer = model.ssl_model.model.feature_extractor.conv_layers[-1][0]\n",
    "# target_layer = model.ssl_model.model.encoder.layers[23].fc2\n",
    "# target_layer = model.LL\n",
    "# target_layer = model.backend.m_frame_level[6]"
   ]
  },
  {
   "cell_type": "markdown",
   "metadata": {},
   "source": [
    "### CAM 알고리즘 적용"
   ]
  },
  {
   "cell_type": "code",
   "execution_count": 6,
   "metadata": {},
   "outputs": [],
   "source": [
    "# Grad-CAM 초기화\n",
    "cam = GradCAM(model=model, target_layers=[target_layer])"
   ]
  },
  {
   "cell_type": "code",
   "execution_count": 7,
   "metadata": {},
   "outputs": [
    {
     "name": "stdout",
     "output_type": "stream",
     "text": [
      "call function\n",
      "forward\n",
      "torch.Size([1, 85901])\n",
      "activations_and_gradients - call\n",
      "torch.Size([1, 85901])\n",
      "Input tensor shape: torch.Size([1, 1, 85901])\n",
      "Input tensor shape: torch.Size([1, 512, 17179])\n",
      "Input tensor shape: torch.Size([1, 512, 8589])\n",
      "Input tensor shape: torch.Size([1, 512, 4294])\n",
      "Input tensor shape: torch.Size([1, 512, 2146])\n",
      "Input tensor shape: torch.Size([1, 512, 1072])\n",
      "Input tensor shape: torch.Size([1, 512, 536])\n",
      "Input tensor shape: torch.Size([1, 1024, 268])\n",
      "compute_cam_per_layer\n",
      "input_tensor_basecam :  torch.Size([1, 85901])\n",
      "grads.shape (1, 512, 268)\n",
      "grads [[[ 1.1273111e-04 -3.2191833e-06  5.7983134e-06 ... -1.5887374e-05\n",
      "   -1.9026826e-05 -3.2849221e-05]\n",
      "  [-1.5886006e-04  3.3963792e-05  5.3414802e-05 ...  9.3248833e-05\n",
      "    3.7940128e-05 -7.1789145e-05]\n",
      "  [-4.2817037e-06  1.5990516e-06  7.3284599e-07 ...  7.7671228e-07\n",
      "   -3.6732731e-06 -4.5498232e-06]\n",
      "  ...\n",
      "  [-5.8764268e-05 -3.3161388e-05  7.5298522e-07 ... -9.0460089e-06\n",
      "   -2.6555068e-05  6.5408356e-05]\n",
      "  [-1.9996589e-05  4.6831949e-05  2.2997958e-05 ...  5.1830455e-05\n",
      "   -1.2232213e-04  4.4783869e-06]\n",
      "  [-8.4666917e-06 -8.7601398e-07  1.0977171e-06 ...  8.6618020e-06\n",
      "    2.3585906e-06 -3.3301891e-05]]]\n",
      "base_cam - get_cam_image\n",
      "activations.shape :  (1, 512, 268)\n",
      "weights.shape :  (1, 268)\n",
      "weighted_activations :  (1, 512, 268)\n",
      "cam :  [[-8.77812045e-10  2.94539643e-10 -7.42525930e-10  6.51833199e-10\n",
      "  -1.43548257e-10 -6.93221522e-11 -2.85026058e-10 -6.74161491e-11\n",
      "  -2.68729587e-11  1.36984687e-10 -2.06109338e-10 -1.38685508e-10\n",
      "   1.72342876e-10 -1.54572938e-10 -1.69721404e-10 -7.97350450e-11\n",
      "  -2.96068031e-10  1.07412294e-10 -6.95721952e-11 -3.48097412e-10\n",
      "  -3.51866147e-10 -3.93441529e-10  4.16432333e-10  0.00000000e+00\n",
      "  -9.56686508e-10 -6.59574895e-10  3.46308648e-10  6.44367060e-11\n",
      "  -1.31807398e-10 -1.84989871e-11 -2.41177273e-10  7.26985486e-11\n",
      "   7.04689501e-11 -1.96802144e-10 -6.16090581e-11  1.71647918e-10\n",
      "  -3.05694192e-10  5.08558647e-11  6.66783503e-11  9.89174992e-11\n",
      "  -1.34167386e-10  2.74926887e-10  3.45443604e-11 -3.42955941e-11\n",
      "   7.01685862e-11 -1.56883159e-10 -1.70134754e-10  2.07849696e-10\n",
      "   1.39212128e-10 -1.57824676e-09  3.61586927e-10 -3.62741261e-11\n",
      "  -8.58774996e-11  0.00000000e+00  1.90921279e-10 -1.11252327e-10\n",
      "  -7.56595134e-11 -1.03861003e-10 -1.79008475e-11  0.00000000e+00\n",
      "  -2.70767540e-11 -1.50476229e-10 -7.29989194e-11  2.20066590e-10\n",
      "   7.14015305e-11 -1.99701866e-10  7.33101496e-11 -1.06296708e-10\n",
      "  -2.48582960e-10  3.59663029e-11  1.25862501e-10  1.35045891e-10\n",
      "  -6.44660228e-11  6.24817767e-11  2.56567600e-10 -6.82530074e-11\n",
      "  -3.59534069e-11 -1.05979892e-10  1.74517581e-10 -1.46831394e-10\n",
      "  -7.00931604e-11  1.06600145e-10  0.00000000e+00  1.78703441e-10\n",
      "   1.07792303e-10  7.32332112e-11 -3.84459853e-10  0.00000000e+00\n",
      "  -4.05359801e-10  0.00000000e+00  0.00000000e+00  0.00000000e+00\n",
      "   3.19949692e-11  1.26985700e-10 -5.27029184e-11 -5.37776594e-11\n",
      "  -3.49244869e-11 -1.25954774e-10 -2.47042886e-10  7.14225207e-11\n",
      "   1.03403286e-10  1.04825863e-10 -3.53354762e-10  8.89554680e-11\n",
      "  -3.43883637e-11 -3.41771611e-11  2.08390610e-10 -5.24690742e-11\n",
      "   1.05088417e-10  0.00000000e+00 -2.93524566e-10  2.79617496e-10\n",
      "  -3.16719456e-10 -5.70171410e-10  8.40147285e-10  8.72112604e-10\n",
      "  -2.86199536e-10  3.56608632e-11 -6.98223909e-11 -1.28156874e-10\n",
      "   1.06361600e-10 -1.04987012e-10 -1.66571826e-11 -2.46837745e-10\n",
      "  -6.95401375e-11  6.90274157e-11 -1.04361499e-10  1.42859655e-10\n",
      "   6.15197962e-11  0.00000000e+00 -1.73476771e-11  7.77085896e-11\n",
      "   7.00655159e-11 -1.71935591e-10 -9.00880412e-11  3.39290020e-11\n",
      "   3.66483024e-11  3.31670386e-11  3.68120048e-11  6.93675672e-11\n",
      "   1.50222668e-10  8.99574928e-11  1.32054298e-10 -1.89366453e-10\n",
      "  -1.96027083e-10  1.33651895e-10  0.00000000e+00 -7.08111833e-11\n",
      "  -3.06103226e-10 -2.70640177e-10  5.94888527e-10 -2.23005656e-10\n",
      "  -2.88377544e-10 -3.52333718e-11 -6.96781660e-11  1.04683109e-10\n",
      "  -4.31520764e-10  0.00000000e+00  1.43357881e-10 -7.13786599e-11\n",
      "  -3.46760926e-10  3.73126197e-10  1.04896168e-10  3.39053535e-10\n",
      "  -1.89446472e-10  2.65919703e-10  3.37939288e-10  1.18966059e-10\n",
      "  -2.02047240e-10  3.28212374e-10 -1.58183933e-09  7.98079602e-10\n",
      "   1.27111363e-10  0.00000000e+00  3.09935244e-10  1.60665231e-10\n",
      "  -3.37757183e-10 -1.58151248e-09 -6.58089139e-10 -1.35283479e-10\n",
      "   0.00000000e+00 -1.03281508e-10  1.62709776e-11 -2.55478999e-10\n",
      "   5.16016119e-11 -4.91186952e-11  0.00000000e+00 -1.75254075e-10\n",
      "  -3.39899831e-10  2.06617515e-10  0.00000000e+00  1.00789002e-10\n",
      "   3.58969868e-11  0.00000000e+00 -2.22088903e-10  1.08611946e-10\n",
      "   1.49499413e-10 -2.70042842e-11  3.65051392e-11 -7.31875047e-11\n",
      "  -7.26836022e-11  7.01127004e-11 -3.38837708e-10  1.03893165e-10\n",
      "   0.00000000e+00 -6.91230267e-11  3.53933341e-11 -2.06726650e-10\n",
      "   6.99993397e-11  2.93624292e-10 -1.34758163e-10 -5.22826574e-11\n",
      "  -5.09315756e-10  0.00000000e+00  5.17837682e-11 -6.68037292e-11\n",
      "   2.07388690e-10 -4.08095252e-10 -2.83244123e-10  2.60113764e-10\n",
      "   1.45327125e-10 -5.66156400e-10  6.93324465e-09 -1.67478864e-09\n",
      "  -1.42282949e-10  5.68591119e-10 -3.58656022e-10  5.86402538e-10\n",
      "   2.71215078e-10 -2.69669953e-10  5.64608693e-10 -2.12790049e-10\n",
      "  -3.13368116e-11  6.63947786e-10 -1.52384327e-10 -7.29554819e-11\n",
      "   1.48532714e-10  0.00000000e+00  0.00000000e+00 -7.89588603e-11\n",
      "   6.81582499e-11 -2.84662655e-10  6.48881782e-11 -6.93098773e-11\n",
      "  -2.45465148e-10  1.41839887e-10  0.00000000e+00 -1.05535150e-10\n",
      "  -1.61571811e-10  7.18013218e-11  0.00000000e+00 -4.60133286e-11\n",
      "   6.77517417e-11 -2.33997183e-10 -2.78928353e-10 -1.92226388e-10\n",
      "   0.00000000e+00  5.83762816e-10 -1.10159493e-10  3.97740618e-10\n",
      "  -3.34924311e-10  1.33752009e-10 -1.42663437e-10 -2.70583361e-10\n",
      "   4.27572477e-10 -1.39150969e-10 -4.27473057e-10 -2.76157902e-10]]\n",
      "cam.shape :  (1, 268)\n",
      "cam_tensor :  tensor([[0.0000e+00, 2.9454e-10, 0.0000e+00, 6.5183e-10, 0.0000e+00, 0.0000e+00,\n",
      "         0.0000e+00, 0.0000e+00, 0.0000e+00, 1.3698e-10, 0.0000e+00, 0.0000e+00,\n",
      "         1.7234e-10, 0.0000e+00, 0.0000e+00, 0.0000e+00, 0.0000e+00, 1.0741e-10,\n",
      "         0.0000e+00, 0.0000e+00, 0.0000e+00, 0.0000e+00, 4.1643e-10, 0.0000e+00,\n",
      "         0.0000e+00, 0.0000e+00, 3.4631e-10, 6.4437e-11, 0.0000e+00, 0.0000e+00,\n",
      "         0.0000e+00, 7.2699e-11, 7.0469e-11, 0.0000e+00, 0.0000e+00, 1.7165e-10,\n",
      "         0.0000e+00, 5.0856e-11, 6.6678e-11, 9.8917e-11, 0.0000e+00, 2.7493e-10,\n",
      "         3.4544e-11, 0.0000e+00, 7.0169e-11, 0.0000e+00, 0.0000e+00, 2.0785e-10,\n",
      "         1.3921e-10, 0.0000e+00, 3.6159e-10, 0.0000e+00, 0.0000e+00, 0.0000e+00,\n",
      "         1.9092e-10, 0.0000e+00, 0.0000e+00, 0.0000e+00, 0.0000e+00, 0.0000e+00,\n",
      "         0.0000e+00, 0.0000e+00, 0.0000e+00, 2.2007e-10, 7.1402e-11, 0.0000e+00,\n",
      "         7.3310e-11, 0.0000e+00, 0.0000e+00, 3.5966e-11, 1.2586e-10, 1.3505e-10,\n",
      "         0.0000e+00, 6.2482e-11, 2.5657e-10, 0.0000e+00, 0.0000e+00, 0.0000e+00,\n",
      "         1.7452e-10, 0.0000e+00, 0.0000e+00, 1.0660e-10, 0.0000e+00, 1.7870e-10,\n",
      "         1.0779e-10, 7.3233e-11, 0.0000e+00, 0.0000e+00, 0.0000e+00, 0.0000e+00,\n",
      "         0.0000e+00, 0.0000e+00, 3.1995e-11, 1.2699e-10, 0.0000e+00, 0.0000e+00,\n",
      "         0.0000e+00, 0.0000e+00, 0.0000e+00, 7.1423e-11, 1.0340e-10, 1.0483e-10,\n",
      "         0.0000e+00, 8.8955e-11, 0.0000e+00, 0.0000e+00, 2.0839e-10, 0.0000e+00,\n",
      "         1.0509e-10, 0.0000e+00, 0.0000e+00, 2.7962e-10, 0.0000e+00, 0.0000e+00,\n",
      "         8.4015e-10, 8.7211e-10, 0.0000e+00, 3.5661e-11, 0.0000e+00, 0.0000e+00,\n",
      "         1.0636e-10, 0.0000e+00, 0.0000e+00, 0.0000e+00, 0.0000e+00, 6.9027e-11,\n",
      "         0.0000e+00, 1.4286e-10, 6.1520e-11, 0.0000e+00, 0.0000e+00, 7.7709e-11,\n",
      "         7.0066e-11, 0.0000e+00, 0.0000e+00, 3.3929e-11, 3.6648e-11, 3.3167e-11,\n",
      "         3.6812e-11, 6.9368e-11, 1.5022e-10, 8.9957e-11, 1.3205e-10, 0.0000e+00,\n",
      "         0.0000e+00, 1.3365e-10, 0.0000e+00, 0.0000e+00, 0.0000e+00, 0.0000e+00,\n",
      "         5.9489e-10, 0.0000e+00, 0.0000e+00, 0.0000e+00, 0.0000e+00, 1.0468e-10,\n",
      "         0.0000e+00, 0.0000e+00, 1.4336e-10, 0.0000e+00, 0.0000e+00, 3.7313e-10,\n",
      "         1.0490e-10, 3.3905e-10, 0.0000e+00, 2.6592e-10, 3.3794e-10, 1.1897e-10,\n",
      "         0.0000e+00, 3.2821e-10, 0.0000e+00, 7.9808e-10, 1.2711e-10, 0.0000e+00,\n",
      "         3.0994e-10, 1.6067e-10, 0.0000e+00, 0.0000e+00, 0.0000e+00, 0.0000e+00,\n",
      "         0.0000e+00, 0.0000e+00, 1.6271e-11, 0.0000e+00, 5.1602e-11, 0.0000e+00,\n",
      "         0.0000e+00, 0.0000e+00, 0.0000e+00, 2.0662e-10, 0.0000e+00, 1.0079e-10,\n",
      "         3.5897e-11, 0.0000e+00, 0.0000e+00, 1.0861e-10, 1.4950e-10, 0.0000e+00,\n",
      "         3.6505e-11, 0.0000e+00, 0.0000e+00, 7.0113e-11, 0.0000e+00, 1.0389e-10,\n",
      "         0.0000e+00, 0.0000e+00, 3.5393e-11, 0.0000e+00, 6.9999e-11, 2.9362e-10,\n",
      "         0.0000e+00, 0.0000e+00, 0.0000e+00, 0.0000e+00, 5.1784e-11, 0.0000e+00,\n",
      "         2.0739e-10, 0.0000e+00, 0.0000e+00, 2.6011e-10, 1.4533e-10, 0.0000e+00,\n",
      "         6.9332e-09, 0.0000e+00, 0.0000e+00, 5.6859e-10, 0.0000e+00, 5.8640e-10,\n",
      "         2.7122e-10, 0.0000e+00, 5.6461e-10, 0.0000e+00, 0.0000e+00, 6.6395e-10,\n",
      "         0.0000e+00, 0.0000e+00, 1.4853e-10, 0.0000e+00, 0.0000e+00, 0.0000e+00,\n",
      "         6.8158e-11, 0.0000e+00, 6.4888e-11, 0.0000e+00, 0.0000e+00, 1.4184e-10,\n",
      "         0.0000e+00, 0.0000e+00, 0.0000e+00, 7.1801e-11, 0.0000e+00, 0.0000e+00,\n",
      "         6.7752e-11, 0.0000e+00, 0.0000e+00, 0.0000e+00, 0.0000e+00, 5.8376e-10,\n",
      "         0.0000e+00, 3.9774e-10, 0.0000e+00, 1.3375e-10, 0.0000e+00, 0.0000e+00,\n",
      "         4.2757e-10, 0.0000e+00, 0.0000e+00, 0.0000e+00]])\n"
     ]
    },
    {
     "data": {
      "image/png": "[encoded data removed]",
      "text/plain": [
       "<Figure size 1000x200 with 2 Axes>"
      ]
     },
     "metadata": {},
     "output_type": "display_data"
    },
    {
     "name": "stdout",
     "output_type": "stream",
     "text": [
      "scale_cam_image\n"
     ]
    }
   ],
   "source": [
    "grayscale_cam = cam(input_tensor=waveform, targets=None)\n",
    "# grayscale_cam = grayscale_cam[0, :]"
   ]
  },
  {
   "cell_type": "code",
   "execution_count": 12,
   "metadata": {},
   "outputs": [
    {
     "data": {
      "text/plain": [
       "torch.Size([1, 268])"
      ]
     },
     "execution_count": 12,
     "metadata": {},
     "output_type": "execute_result"
    }
   ],
   "source": [
    "grayscale_cam.shape"
   ]
  },
  {
   "cell_type": "markdown",
   "metadata": {},
   "source": [
    "### 시각화"
   ]
  },
  {
   "cell_type": "code",
   "execution_count": 15,
   "metadata": {},
   "outputs": [
    {
     "data": {
      "image/png": "[encoded data removed]",
      "text/plain": [
       "<Figure size 1000x200 with 2 Axes>"
      ]
     },
     "metadata": {},
     "output_type": "display_data"
    }
   ],
   "source": [
    "import matplotlib.pyplot as plt\n",
    "import numpy as np\n",
    "\n",
    "# Assuming `normalized_tensor` is the tensor you've normalized and is now in the range [0, 1]\n",
    "# Scale the tensor to have a maximum of 320\n",
    "scaled_tensor_np = grayscale_cam.detach().numpy()\n",
    "# Set the number of pixels for each value\n",
    "pixel_per_value = 320\n",
    "\n",
    "# Create a new array with expanded width\n",
    "expanded_heatmap = np.repeat(scaled_tensor_np, pixel_per_value, axis=1)\n",
    "\n",
    "# Create the heatmap\n",
    "plt.figure(figsize=(10, 2))  # Set the size of the heatmap\n",
    "plt.imshow(expanded_heatmap, cmap='PuRd', interpolation='nearest', aspect='auto')  # Generate the heatmap\n",
    "plt.colorbar()  # Add color bar\n",
    "plt.show()"
   ]
  },
  {
   "cell_type": "code",
   "execution_count": null,
   "metadata": {},
   "outputs": [],
   "source": []
  }
 ],
 "metadata": {
  "kernelspec": {
   "display_name": "grad_cam",
   "language": "python",
   "name": "python3"
  },
  "language_info": {
   "codemirror_mode": {
    "name": "ipython",
    "version": 3
   },
   "file_extension": ".py",
   "mimetype": "text/x-python",
   "name": "python",
   "nbconvert_exporter": "python",
   "pygments_lexer": "ipython3",
   "version": "3.9.19"
  }
 },
 "nbformat": 4,
 "nbformat_minor": 2
}
